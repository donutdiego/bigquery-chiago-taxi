{
 "cells": [
  {
   "cell_type": "code",
   "execution_count": null,
   "metadata": {},
   "outputs": [],
   "source": [
    "import os\n",
    "import time\n",
    "import pandas as pd\n",
    "import seaborn as sns\n",
    "import matplotlib.pyplot as plt\n",
    "\n",
    "from  google.cloud import bigquery"
   ]
  },
  {
   "cell_type": "code",
   "execution_count": null,
   "metadata": {},
   "outputs": [],
   "source": [
    "os.environ['GOOGLE_APPLICATION_CREDENTIALS'] = 'c:/Users/Diego/Desktop/sql-practice-cred.json'"
   ]
  },
  {
   "cell_type": "code",
   "execution_count": null,
   "metadata": {},
   "outputs": [],
   "source": [
    "client = bigquery.Client()"
   ]
  },
  {
   "cell_type": "code",
   "execution_count": null,
   "metadata": {},
   "outputs": [],
   "source": [
    "sns.set_style('dark')\n",
    "sns.set_palette('mako')"
   ]
  },
  {
   "cell_type": "code",
   "execution_count": null,
   "metadata": {},
   "outputs": [],
   "source": [
    "def query_result(query):\n",
    "    query_job = client.query(query)\n",
    "\n",
    "    while query_job.state != 'DONE':\n",
    "        query_job.reload()\n",
    "        time.sleep(3)\n",
    "\n",
    "    if query_job.state == 'DONE':\n",
    "        df = query_job.to_dataframe()\n",
    "        return df\n",
    "    else:\n",
    "        print(query_job.result())"
   ]
  },
  {
   "cell_type": "code",
   "execution_count": null,
   "metadata": {},
   "outputs": [],
   "source": [
    "query = \"\"\"\n",
    "WITH weekdays AS(\n",
    "SELECT ['Sun', 'Mon', 'Tues', 'Wed', 'Thurs', 'Fri', 'Sat'] AS daysofweek)\n",
    "\n",
    "SELECT\n",
    "  ROUND(AVG(trip_total), 2) trip_total_cost,\n",
    "  ROUND(AVG(tips), 2) avg_tips,\n",
    "  CONCAT(ROUND(AVG(trip_seconds) / 60, 2), ' hrs') trip_duration,\n",
    "  daysofweek[ORDINAL(EXTRACT(DAYOFWEEK FROM trip_start_timestamp))] weekday,\n",
    "  EXTRACT(HOUR FROM trip_start_timestamp) hour\n",
    "FROM `bigquery-public-data.chicago_taxi_trips.taxi_trips`, weekdays\n",
    "WHERE trip_seconds > 0\n",
    "  AND fare > 0\n",
    "GROUP BY 4, 5\n",
    "ORDER BY 4, 5;\n",
    "\"\"\"\n",
    "\n",
    "trip_stats_weekdayhour = query_result(query)\n",
    "\n",
    "trip_stats_weekdayhour.head()"
   ]
  },
  {
   "cell_type": "code",
   "execution_count": null,
   "metadata": {},
   "outputs": [],
   "source": [
    "sns.relplot(\n",
    "    data=trip_stats_weekdayhour,\n",
    "    x='trip_total_cost',\n",
    "    y='avg_tips',\n",
    "    hue='weekday',\n",
    "        hue_order=['Mon','Tue','Wed','Thurs','Fri','Sat','Sun'],\n",
    "    palette=sns.color_palette('rocket', 7),\n",
    "    kind='scatter'\n",
    ")"
   ]
  },
  {
   "cell_type": "code",
   "execution_count": null,
   "metadata": {},
   "outputs": [],
   "source": [
    "query = \"\"\"\n",
    "\n",
    "\"\"\""
   ]
  }
 ],
 "metadata": {
  "kernelspec": {
   "display_name": "Python 3",
   "language": "python",
   "name": "python3"
  },
  "language_info": {
   "codemirror_mode": {
    "name": "ipython",
    "version": 3
   },
   "file_extension": ".py",
   "mimetype": "text/x-python",
   "name": "python",
   "nbconvert_exporter": "python",
   "pygments_lexer": "ipython3",
   "version": "3.11.1"
  },
  "orig_nbformat": 4,
  "vscode": {
   "interpreter": {
    "hash": "5238573367df39f7286bb46f9ff5f08f63a01a80960060ce41e3c79b190280fa"
   }
  }
 },
 "nbformat": 4,
 "nbformat_minor": 2
}
