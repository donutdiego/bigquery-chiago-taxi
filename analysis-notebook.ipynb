{
 "cells": [
  {
   "cell_type": "code",
   "execution_count": 1,
   "metadata": {},
   "outputs": [],
   "source": [
    "import os\n",
    "import time\n",
    "import pandas as pd\n",
    "import seaborn as sns\n",
    "import matplotlib.pyplot as plt\n",
    "\n",
    "from google.cloud import bigquery"
   ]
  },
  {
   "cell_type": "code",
   "execution_count": 16,
   "metadata": {},
   "outputs": [],
   "source": [
    "sns.set_style('dark')\n",
    "sns.set_palette('mako')"
   ]
  },
  {
   "cell_type": "code",
   "execution_count": 4,
   "metadata": {},
   "outputs": [],
   "source": [
    "os.environ['GOOGLE_APPLICATION_CREDENTIALS'] = 'c:/Users/Diego/GitHub/bigquery-chiago-taxi/sql-practice-cred.json'"
   ]
  },
  {
   "cell_type": "code",
   "execution_count": 5,
   "metadata": {},
   "outputs": [],
   "source": [
    "client = bigquery.Client()"
   ]
  },
  {
   "cell_type": "code",
   "execution_count": 22,
   "metadata": {},
   "outputs": [],
   "source": [
    "def query_func(query):\n",
    "    query_job = client.query(query)\n",
    "\n",
    "    while query_job.state != 'DONE':\n",
    "        query_job.reload()\n",
    "        time.sleep(3)\n",
    "\n",
    "    if query_job.state == 'DONE':\n",
    "        df = query_job.to_dataframe()\n",
    "        return df\n",
    "    else:\n",
    "        print(query_job.result())"
   ]
  },
  {
   "cell_type": "code",
   "execution_count": 23,
   "metadata": {},
   "outputs": [
    {
     "data": {
      "text/html": [
       "<div>\n",
       "<style scoped>\n",
       "    .dataframe tbody tr th:only-of-type {\n",
       "        vertical-align: middle;\n",
       "    }\n",
       "\n",
       "    .dataframe tbody tr th {\n",
       "        vertical-align: top;\n",
       "    }\n",
       "\n",
       "    .dataframe thead th {\n",
       "        text-align: right;\n",
       "    }\n",
       "</style>\n",
       "<table border=\"1\" class=\"dataframe\">\n",
       "  <thead>\n",
       "    <tr style=\"text-align: right;\">\n",
       "      <th></th>\n",
       "      <th>year</th>\n",
       "      <th>all_trips</th>\n",
       "      <th>year_to_year_difference</th>\n",
       "    </tr>\n",
       "  </thead>\n",
       "  <tbody>\n",
       "    <tr>\n",
       "      <th>0</th>\n",
       "      <td>2013</td>\n",
       "      <td>27217300</td>\n",
       "      <td>27217300</td>\n",
       "    </tr>\n",
       "    <tr>\n",
       "      <th>1</th>\n",
       "      <td>2014</td>\n",
       "      <td>37395079</td>\n",
       "      <td>10177779</td>\n",
       "    </tr>\n",
       "    <tr>\n",
       "      <th>2</th>\n",
       "      <td>2015</td>\n",
       "      <td>32385527</td>\n",
       "      <td>-5009552</td>\n",
       "    </tr>\n",
       "    <tr>\n",
       "      <th>3</th>\n",
       "      <td>2016</td>\n",
       "      <td>31756403</td>\n",
       "      <td>-629124</td>\n",
       "    </tr>\n",
       "    <tr>\n",
       "      <th>4</th>\n",
       "      <td>2017</td>\n",
       "      <td>24979611</td>\n",
       "      <td>-6776792</td>\n",
       "    </tr>\n",
       "    <tr>\n",
       "      <th>5</th>\n",
       "      <td>2018</td>\n",
       "      <td>20731105</td>\n",
       "      <td>-4248506</td>\n",
       "    </tr>\n",
       "    <tr>\n",
       "      <th>6</th>\n",
       "      <td>2019</td>\n",
       "      <td>16476440</td>\n",
       "      <td>-4254665</td>\n",
       "    </tr>\n",
       "    <tr>\n",
       "      <th>7</th>\n",
       "      <td>2020</td>\n",
       "      <td>3888831</td>\n",
       "      <td>-12587609</td>\n",
       "    </tr>\n",
       "    <tr>\n",
       "      <th>8</th>\n",
       "      <td>2021</td>\n",
       "      <td>3947677</td>\n",
       "      <td>58846</td>\n",
       "    </tr>\n",
       "    <tr>\n",
       "      <th>9</th>\n",
       "      <td>2022</td>\n",
       "      <td>6382071</td>\n",
       "      <td>2434394</td>\n",
       "    </tr>\n",
       "    <tr>\n",
       "      <th>10</th>\n",
       "      <td>2023</td>\n",
       "      <td>414489</td>\n",
       "      <td>-5967582</td>\n",
       "    </tr>\n",
       "  </tbody>\n",
       "</table>\n",
       "</div>"
      ],
      "text/plain": [
       "    year  all_trips  year_to_year_difference\n",
       "0   2013   27217300                 27217300\n",
       "1   2014   37395079                 10177779\n",
       "2   2015   32385527                 -5009552\n",
       "3   2016   31756403                  -629124\n",
       "4   2017   24979611                 -6776792\n",
       "5   2018   20731105                 -4248506\n",
       "6   2019   16476440                 -4254665\n",
       "7   2020    3888831                -12587609\n",
       "8   2021    3947677                    58846\n",
       "9   2022    6382071                  2434394\n",
       "10  2023     414489                 -5967582"
      ]
     },
     "execution_count": 23,
     "metadata": {},
     "output_type": "execute_result"
    }
   ],
   "source": [
    "query = \"\"\"\n",
    "WITH trips AS(\n",
    "  SELECT\n",
    "  EXTRACT(YEAR FROM trip_start_timestamp) year,\n",
    "  COUNT(*) all_trips\n",
    "  FROM `bigquery-public-data.chicago_taxi_trips.taxi_trips`\n",
    "  GROUP BY 1\n",
    ")\n",
    "\n",
    "SELECT\n",
    "  year,\n",
    "  all_trips,\n",
    "  all_trips - LAG(all_trips, 1, 0) OVER(ORDER BY year) AS year_to_year_difference \n",
    "FROM trips\n",
    "GROUP BY 1,2\n",
    "ORDER BY 1;\n",
    "\"\"\"\n",
    "\n",
    "yoy_trips = query_func(query)\n",
    "\n",
    "yoy_trips"
   ]
  },
  {
   "cell_type": "code",
   "execution_count": 45,
   "metadata": {},
   "outputs": [
    {
     "data": {
      "image/png": "[encoded data removed]",
      "text/plain": [
       "<Figure size 640x480 with 1 Axes>"
      ]
     },
     "metadata": {},
     "output_type": "display_data"
    }
   ],
   "source": [
    "bar = sns.barplot(\n",
    "    data=yoy_trips,\n",
    "    y='year_to_year_difference',\n",
    "    x='year',\n",
    "    palette=sns.color_palette('flare'),\n",
    "    \n",
    ")\n",
    "\n",
    "bar.set(xlabel='',ylabel='Year to Year Trip Difference')\n",
    "\n",
    "plt.show()"
   ]
  },
  {
   "cell_type": "code",
   "execution_count": 13,
   "metadata": {},
   "outputs": [
    {
     "data": {
      "text/html": [
       "<div>\n",
       "<style scoped>\n",
       "    .dataframe tbody tr th:only-of-type {\n",
       "        vertical-align: middle;\n",
       "    }\n",
       "\n",
       "    .dataframe tbody tr th {\n",
       "        vertical-align: top;\n",
       "    }\n",
       "\n",
       "    .dataframe thead th {\n",
       "        text-align: right;\n",
       "    }\n",
       "</style>\n",
       "<table border=\"1\" class=\"dataframe\">\n",
       "  <thead>\n",
       "    <tr style=\"text-align: right;\">\n",
       "      <th></th>\n",
       "      <th>mean_absolute_error</th>\n",
       "      <th>mean_squared_error</th>\n",
       "      <th>mean_squared_log_error</th>\n",
       "      <th>median_absolute_error</th>\n",
       "      <th>r2_score</th>\n",
       "      <th>explained_variance</th>\n",
       "    </tr>\n",
       "  </thead>\n",
       "  <tbody>\n",
       "    <tr>\n",
       "      <th>0</th>\n",
       "      <td>6.835041</td>\n",
       "      <td>6232.760339</td>\n",
       "      <td>0.174885</td>\n",
       "      <td>3.29741</td>\n",
       "      <td>0.047901</td>\n",
       "      <td>0.048938</td>\n",
       "    </tr>\n",
       "  </tbody>\n",
       "</table>\n",
       "</div>"
      ],
      "text/plain": [
       "   mean_absolute_error  mean_squared_error  mean_squared_log_error  \\\n",
       "0             6.835041         6232.760339                0.174885   \n",
       "\n",
       "   median_absolute_error  r2_score  explained_variance  \n",
       "0                3.29741  0.047901            0.048938  "
      ]
     },
     "execution_count": 13,
     "metadata": {},
     "output_type": "execute_result"
    }
   ],
   "source": [
    "query = \"\"\"\n",
    "SELECT *\n",
    "FROM ML.EVALUATE(MODEL `chicago_taxi.taxi_fare_model`);\n",
    "\"\"\"\n",
    "\n",
    "model_stats = query_func(query)\n",
    "\n",
    "model_stats"
   ]
  },
  {
   "cell_type": "code",
   "execution_count": 14,
   "metadata": {},
   "outputs": [
    {
     "data": {
      "text/html": [
       "<div>\n",
       "<style scoped>\n",
       "    .dataframe tbody tr th:only-of-type {\n",
       "        vertical-align: middle;\n",
       "    }\n",
       "\n",
       "    .dataframe tbody tr th {\n",
       "        vertical-align: top;\n",
       "    }\n",
       "\n",
       "    .dataframe thead th {\n",
       "        text-align: right;\n",
       "    }\n",
       "</style>\n",
       "<table border=\"1\" class=\"dataframe\">\n",
       "  <thead>\n",
       "    <tr style=\"text-align: right;\">\n",
       "      <th></th>\n",
       "      <th>predicted_trip_cost</th>\n",
       "    </tr>\n",
       "  </thead>\n",
       "  <tbody>\n",
       "    <tr>\n",
       "      <th>0</th>\n",
       "      <td>34.41</td>\n",
       "    </tr>\n",
       "  </tbody>\n",
       "</table>\n",
       "</div>"
      ],
      "text/plain": [
       "   predicted_trip_cost\n",
       "0                34.41"
      ]
     },
     "execution_count": 14,
     "metadata": {},
     "output_type": "execute_result"
    }
   ],
   "source": [
    "query = \"\"\"\n",
    "SELECT \n",
    "  ROUND(predicted_trip_total_cost, 2) predicted_trip_cost\n",
    "FROM \n",
    "  ML.PREDICT(MODEL chicago_taxi.taxi_fare_model, \n",
    "  (\n",
    "  SELECT \n",
    "  10 AS tips, \n",
    "  '1.00 hrs' AS trip_duration,\n",
    "  'Mon' AS weekday, \n",
    "  17 AS hour)\n",
    "  );\n",
    "\"\"\"\n",
    "\n",
    "model_predict = query_func(query)\n",
    "\n",
    "model_predict"
   ]
  }
 ],
 "metadata": {
  "kernelspec": {
   "display_name": "Python 3",
   "language": "python",
   "name": "python3"
  },
  "language_info": {
   "codemirror_mode": {
    "name": "ipython",
    "version": 3
   },
   "file_extension": ".py",
   "mimetype": "text/x-python",
   "name": "python",
   "nbconvert_exporter": "python",
   "pygments_lexer": "ipython3",
   "version": "3.11.1"
  },
  "orig_nbformat": 4,
  "vscode": {
   "interpreter": {
    "hash": "5238573367df39f7286bb46f9ff5f08f63a01a80960060ce41e3c79b190280fa"
   }
  }
 },
 "nbformat": 4,
 "nbformat_minor": 2
}
